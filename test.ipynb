{
 "cells": [
  {
   "cell_type": "code",
   "execution_count": 21,
   "id": "04f401fe",
   "metadata": {},
   "outputs": [
    {
     "name": "stdout",
     "output_type": "stream",
     "text": [
      "Requirement already satisfied: pandas in /opt/homebrew/lib/python3.11/site-packages (2.3.2)\n",
      "Collecting openpyxl\n",
      "  Using cached openpyxl-3.1.5-py2.py3-none-any.whl.metadata (2.5 kB)\n",
      "Requirement already satisfied: numpy>=1.23.2 in /opt/homebrew/lib/python3.11/site-packages (from pandas) (2.3.3)\n",
      "Requirement already satisfied: python-dateutil>=2.8.2 in /Users/baole/Library/Python/3.11/lib/python/site-packages (from pandas) (2.9.0.post0)\n",
      "Requirement already satisfied: pytz>=2020.1 in /opt/homebrew/lib/python3.11/site-packages (from pandas) (2025.2)\n",
      "Requirement already satisfied: tzdata>=2022.7 in /opt/homebrew/lib/python3.11/site-packages (from pandas) (2025.2)\n",
      "Collecting et-xmlfile (from openpyxl)\n",
      "  Using cached et_xmlfile-2.0.0-py3-none-any.whl.metadata (2.7 kB)\n",
      "Requirement already satisfied: six>=1.5 in /Users/baole/Library/Python/3.11/lib/python/site-packages (from python-dateutil>=2.8.2->pandas) (1.17.0)\n",
      "Using cached openpyxl-3.1.5-py2.py3-none-any.whl (250 kB)\n",
      "Using cached et_xmlfile-2.0.0-py3-none-any.whl (18 kB)\n",
      "Installing collected packages: et-xmlfile, openpyxl\n",
      "\u001b[2K   \u001b[90m━━━━━━━━━━━━━━━━━━━━━━━━━━━━━━━━━━━━━━━━\u001b[0m \u001b[32m2/2\u001b[0m [openpyxl]\n",
      "\u001b[1A\u001b[2KSuccessfully installed et-xmlfile-2.0.0 openpyxl-3.1.5\n",
      "\n",
      "\u001b[1m[\u001b[0m\u001b[34;49mnotice\u001b[0m\u001b[1;39;49m]\u001b[0m\u001b[39;49m A new release of pip is available: \u001b[0m\u001b[31;49m25.1.1\u001b[0m\u001b[39;49m -> \u001b[0m\u001b[32;49m25.2\u001b[0m\n",
      "\u001b[1m[\u001b[0m\u001b[34;49mnotice\u001b[0m\u001b[1;39;49m]\u001b[0m\u001b[39;49m To update, run: \u001b[0m\u001b[32;49m/opt/homebrew/opt/python@3.11/bin/python3.11 -m pip install --upgrade pip\u001b[0m\n",
      "Note: you may need to restart the kernel to use updated packages.\n"
     ]
    }
   ],
   "source": [
    "pip install pandas openpyxl"
   ]
  },
  {
   "cell_type": "code",
   "execution_count": 22,
   "id": "2e70c775",
   "metadata": {},
   "outputs": [
    {
     "name": "stdout",
     "output_type": "stream",
     "text": [
      "['Patient ID', \"Clinician's Notes\"]\n",
      "   Patient ID                                  Clinician's Notes\n",
      "0           1  L4-5: degenerative annular disc bulge is noted...\n",
      "1           2  No evidence of disc herniation.\\nNo significan...\n",
      "2           3  LSS MRI\\nFeatures of muscle spasm.\\nsmall cent...\n"
     ]
    }
   ],
   "source": [
    "import pandas as pd\n",
    "\n",
    "df = pd.read_excel(\"./data/Radiologists Report.xlsx\")\n",
    "print(df.columns.tolist())\n",
    "print(df.head(3))"
   ]
  },
  {
   "cell_type": "code",
   "execution_count": 2,
   "id": "26c798d7",
   "metadata": {},
   "outputs": [
    {
     "name": "stdout",
     "output_type": "stream",
     "text": [
      "Collecting nibabel\n",
      "  Downloading nibabel-5.3.2-py3-none-any.whl.metadata (9.1 kB)\n",
      "Collecting pydicom\n",
      "  Downloading pydicom-3.0.1-py3-none-any.whl.metadata (9.4 kB)\n",
      "Collecting importlib-resources>=5.12 (from nibabel)\n",
      "  Downloading importlib_resources-6.5.2-py3-none-any.whl.metadata (3.9 kB)\n",
      "Collecting numpy>=1.22 (from nibabel)\n",
      "  Downloading numpy-2.3.3-cp311-cp311-macosx_14_0_arm64.whl.metadata (62 kB)\n",
      "Requirement already satisfied: packaging>=20 in /Users/baole/Library/Python/3.11/lib/python/site-packages (from nibabel) (25.0)\n",
      "Requirement already satisfied: typing-extensions>=4.6 in /Users/baole/Library/Python/3.11/lib/python/site-packages (from nibabel) (4.15.0)\n",
      "Downloading nibabel-5.3.2-py3-none-any.whl (3.3 MB)\n",
      "\u001b[2K   \u001b[90m━━━━━━━━━━━━━━━━━━━━━━━━━━━━━━━━━━━━━━━━\u001b[0m \u001b[32m3.3/3.3 MB\u001b[0m \u001b[31m22.5 MB/s\u001b[0m eta \u001b[36m0:00:00\u001b[0m\n",
      "\u001b[?25hDownloading pydicom-3.0.1-py3-none-any.whl (2.4 MB)\n",
      "\u001b[2K   \u001b[90m━━━━━━━━━━━━━━━━━━━━━━━━━━━━━━━━━━━━━━━━\u001b[0m \u001b[32m2.4/2.4 MB\u001b[0m \u001b[31m53.5 MB/s\u001b[0m eta \u001b[36m0:00:00\u001b[0m\n",
      "\u001b[?25hDownloading importlib_resources-6.5.2-py3-none-any.whl (37 kB)\n",
      "Downloading numpy-2.3.3-cp311-cp311-macosx_14_0_arm64.whl (5.4 MB)\n",
      "\u001b[2K   \u001b[90m━━━━━━━━━━━━━━━━━━━━━━━━━━━━━━━━━━━━━━━━\u001b[0m \u001b[32m5.4/5.4 MB\u001b[0m \u001b[31m60.8 MB/s\u001b[0m eta \u001b[36m0:00:00\u001b[0m\n",
      "\u001b[?25hInstalling collected packages: pydicom, numpy, importlib-resources, nibabel\n",
      "\u001b[2K   \u001b[90m━━━━━━━━━━━━━━━━━━━━━━━━━━━━━━━━━━━━━━━━\u001b[0m \u001b[32m4/4\u001b[0m [nibabel]m3/4\u001b[0m [nibabel]\n",
      "\u001b[1A\u001b[2KSuccessfully installed importlib-resources-6.5.2 nibabel-5.3.2 numpy-2.3.3 pydicom-3.0.1\n",
      "\n",
      "\u001b[1m[\u001b[0m\u001b[34;49mnotice\u001b[0m\u001b[1;39;49m]\u001b[0m\u001b[39;49m A new release of pip is available: \u001b[0m\u001b[31;49m25.1.1\u001b[0m\u001b[39;49m -> \u001b[0m\u001b[32;49m25.2\u001b[0m\n",
      "\u001b[1m[\u001b[0m\u001b[34;49mnotice\u001b[0m\u001b[1;39;49m]\u001b[0m\u001b[39;49m To update, run: \u001b[0m\u001b[32;49m/opt/homebrew/opt/python@3.11/bin/python3.11 -m pip install --upgrade pip\u001b[0m\n",
      "Note: you may need to restart the kernel to use updated packages.\n"
     ]
    }
   ],
   "source": [
    "pip install nibabel pydicom"
   ]
  },
  {
   "cell_type": "code",
   "execution_count": 15,
   "id": "6fb4c28d",
   "metadata": {},
   "outputs": [],
   "source": [
    "file_path = \"/Users/baole/Desktop/251/DatabaseManagementSystem/dbms-postgres-251/data/01_MRI_Data/0001/L-SPINE_LSS_20160309_091629_240000/LOCALIZER_0001/LOCALIZER_0_0001_001.ima\""
   ]
  },
  {
   "cell_type": "code",
   "execution_count": 17,
   "id": "e8c7580d",
   "metadata": {},
   "outputs": [
    {
     "name": "stdout",
     "output_type": "stream",
     "text": [
      "Dataset.file_meta -------------------------------\n",
      "(0002,0000) File Meta Information Group Length  UL: 210\n",
      "(0002,0001) File Meta Information Version       OB: b'\\x00\\x01'\n",
      "(0002,0002) Media Storage SOP Class UID         UI: MR Image Storage\n",
      "(0002,0003) Media Storage SOP Instance UID      UI: 1.3.6.1.4.1.9590.100.1.2.338294907212092058724332148592124191472\n",
      "(0002,0010) Transfer Syntax UID                 UI: Explicit VR Little Endian\n",
      "(0002,0012) Implementation Class UID            UI: 1.3.6.1.4.1.9590.100.1.3.100.9.4\n",
      "(0002,0013) Implementation Version Name         SH: 'MATLAB IPT 9.4'\n",
      "-------------------------------------------------\n",
      "(0008,0005) Specific Character Set              CS: 'ISO_IR 100'\n",
      "(0008,0008) Image Type                          CS: ['ORIGINAL', 'PRIMARY', 'M', 'NORM', 'DIS2D']\n",
      "(0008,0012) Instance Creation Date              DA: ''\n",
      "(0008,0013) Instance Creation Time              TM: '091837.390000'\n",
      "(0008,0016) SOP Class UID                       UI: MR Image Storage\n",
      "(0008,0018) SOP Instance UID                    UI: 1.3.6.1.4.1.9590.100.1.2.338294907212092058724332148592124191472\n",
      "(0008,0020) Study Date                          DA: ''\n",
      "(0008,0021) Series Date                         DA: ''\n",
      "(0008,0022) Acquisition Date                    DA: ''\n",
      "(0008,0023) Content Date                        DA: ''\n",
      "(0008,0030) Study Time                          TM: '091629.240000'\n",
      "(0008,0031) Series Time                         TM: '091819.388000'\n",
      "(0008,0032) Acquisition Time                    TM: '091830.747500'\n",
      "(0008,0033) Content Time                        TM: '091837.390000'\n",
      "(0008,0050) Accession Number                    SH: ''\n",
      "(0008,0060) Modality                            CS: 'MR'\n",
      "(0008,0070) Manufacturer                        LO: 'SIEMENS'\n",
      "(0008,0080) Institution Name                    LO: ''\n",
      "(0008,0090) Referring Physician's Name          PN: ''\n",
      "(0008,1030) Study Description                   LO: 'l-spine^lss'\n",
      "(0008,103E) Series Description                  LO: 'localizer'\n",
      "(0008,1050) Performing Physician's Name         PN: ''\n",
      "(0008,1090) Manufacturer's Model Name           LO: 'MAGNETOM_ESSENZA'\n",
      "(0010,0010) Patient's Name                      PN: ''\n",
      "(0010,0020) Patient ID                          LO: ''\n",
      "(0010,0030) Patient's Birth Date                DA: ''\n",
      "(0010,0040) Patient's Sex                       CS: 'M'\n",
      "(0010,1010) Patient's Age                       AS: '053Y'\n",
      "(0010,1020) Patient's Size                      DS: '1.6'\n",
      "(0010,1030) Patient's Weight                    DS: '90'\n",
      "(0012,0062) Patient Identity Removed            CS: 'YES'\n",
      "(0012,0063) De-identification Method            LO: 'DICOMANON (rev R2010a) - PS 3.15-2008 Table E.1-1 - nondefault'\n",
      "(0018,0015) Body Part Examined                  CS: 'LSPINE'\n",
      "(0018,0020) Scanning Sequence                   CS: 'GR'\n",
      "(0018,0021) Sequence Variant                    CS: ['SP', 'OSP']\n",
      "(0018,0022) Scan Options                        CS: ''\n",
      "(0018,0023) MR Acquisition Type                 CS: '2D'\n",
      "(0018,0024) Sequence Name                       SH: '*fl2d1'\n",
      "(0018,0025) Angio Flag                          CS: 'N'\n",
      "(0018,0050) Slice Thickness                     DS: '8'\n",
      "(0018,0080) Repetition Time                     DS: '7'\n",
      "(0018,0081) Echo Time                           DS: '2.95'\n",
      "(0018,0083) Number of Averages                  DS: '2'\n",
      "(0018,0084) Imaging Frequency                   DS: '63.681996'\n",
      "(0018,0085) Imaged Nucleus                      SH: '1H'\n",
      "(0018,0086) Echo Number(s)                      IS: '1'\n",
      "(0018,0087) Magnetic Field Strength             DS: '1.5'\n",
      "(0018,0088) Spacing Between Slices              DS: '12'\n",
      "(0018,0089) Number of Phase Encoding Steps      IS: '276'\n",
      "(0018,0091) Echo Train Length                   IS: '1'\n",
      "(0018,0093) Percent Sampling                    DS: '70'\n",
      "(0018,0094) Percent Phase Field of View         DS: '100'\n",
      "(0018,0095) Pixel Bandwidth                     DS: '220'\n",
      "(0018,1020) Software Versions                   LO: 'syngo MR D14'\n",
      "(0018,1251) Transmit Coil Name                  SH: 'Body'\n",
      "(0018,1310) Acquisition Matrix                  US: [0, 256, 179, 0]\n",
      "(0018,1312) In-plane Phase Encoding Direction   CS: 'ROW'\n",
      "(0018,1314) Flip Angle                          DS: '20'\n",
      "(0018,1315) Variable Flip Angle Flag            CS: 'N'\n",
      "(0018,1316) SAR                                 DS: '0.05047817437079'\n",
      "(0018,1318) dB/dt                               DS: '0'\n",
      "(0018,5100) Patient Position                    CS: 'HFS'\n",
      "(0020,000D) Study Instance UID                  UI: 1.3.12.2.1107.5.2.40.50233.30000016030907083527900000007\n",
      "(0020,000E) Series Instance UID                 UI: 1.3.12.2.1107.5.2.40.50233.2016030909181239634304374.0.0.0\n",
      "(0020,0010) Study ID                            SH: ''\n",
      "(0020,0011) Series Number                       IS: '1'\n",
      "(0020,0012) Acquisition Number                  IS: '1'\n",
      "(0020,0013) Instance Number                     IS: '1'\n",
      "(0020,0032) Image Position (Patient)            DS: [-12, -125, 175]\n",
      "(0020,0037) Image Orientation (Patient)         DS: [0, 1, 0, 0, 0, -1]\n",
      "(0020,0052) Frame of Reference UID              UI: 1.3.6.1.4.1.9590.100.1.2.342496330112696733324484064592822881197\n",
      "(0020,1040) Position Reference Indicator        LO: ''\n",
      "(0020,1041) Slice Location                      DS: '-12'\n",
      "(0028,0002) Samples per Pixel                   US: 1\n",
      "(0028,0004) Photometric Interpretation          CS: 'MONOCHROME2'\n",
      "(0028,0010) Rows                                US: 512\n",
      "(0028,0011) Columns                             US: 512\n",
      "(0028,0030) Pixel Spacing                       DS: [0.68359375, 0.68359375]\n",
      "(0028,0100) Bits Allocated                      US: 16\n",
      "(0028,0101) Bits Stored                         US: 12\n",
      "(0028,0102) High Bit                            US: 11\n",
      "(0028,0103) Pixel Representation                US: 0\n",
      "(0028,0106) Smallest Image Pixel Value          US: 0\n",
      "(0028,0107) Largest Image Pixel Value           US: 216\n",
      "(0028,1050) Window Center                       DS: '113'\n",
      "(0028,1051) Window Width                        DS: '288'\n",
      "(0028,1055) Window Center & Width Explanation   LO: 'Algo1'\n",
      "(0032,1060) Requested Procedure Description     LO: 'l-spine lss'\n",
      "(0040,0244) Performed Procedure Step Start Date DA: ''\n",
      "(0040,0245) Performed Procedure Step Start Time TM: '091629.297000'\n",
      "(0040,0253) Performed Procedure Step ID         SH: 'MR20160309091629'\n",
      "(0040,0254) Performed Procedure Step Descriptio LO: 'l-spine^lss'\n",
      "(0040,0280) Comments on the Performed Procedure ST: ''\n",
      "(7FE0,0010) Pixel Data                          OW: Array of 524288 elements\n",
      "(FFFC,FFFC) Data Set Trailing Padding           OB: Array of 134 elements\n"
     ]
    }
   ],
   "source": [
    "import pydicom\n",
    "\n",
    "ds = pydicom.dcmread(file_path)\n",
    "print(ds)\n"
   ]
  },
  {
   "cell_type": "code",
   "execution_count": null,
   "id": "5a122ca1",
   "metadata": {},
   "outputs": [],
   "source": [
    "import nibabel as nib\n",
    "\n",
    "img = nib.load(\"file.ima\")\n",
    "data = img.get_fdata()\n",
    "print(data.shape)"
   ]
  }
 ],
 "metadata": {
  "kernelspec": {
   "display_name": "Python 3",
   "language": "python",
   "name": "python3"
  },
  "language_info": {
   "codemirror_mode": {
    "name": "ipython",
    "version": 3
   },
   "file_extension": ".py",
   "mimetype": "text/x-python",
   "name": "python",
   "nbconvert_exporter": "python",
   "pygments_lexer": "ipython3",
   "version": "3.11.13"
  }
 },
 "nbformat": 4,
 "nbformat_minor": 5
}
